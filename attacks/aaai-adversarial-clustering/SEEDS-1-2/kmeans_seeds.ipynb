{
 "cells": [
  {
   "cell_type": "code",
   "execution_count": 1,
   "metadata": {},
   "outputs": [],
   "source": [
    "from sklearn import datasets\n",
    "import numpy as np\n",
    "from mpl_toolkits.mplot3d import Axes3D\n",
    "import matplotlib.pyplot as plt\n",
    "from sklearn.cluster import KMeans,AgglomerativeClustering\n",
    "from numpy import linalg\n",
    "import pandas as pd\n",
    "from sklearn.datasets import load_digits\n",
    "#import zoopt\n",
    "import csv"
   ]
  },
  {
   "cell_type": "code",
   "execution_count": 2,
   "metadata": {},
   "outputs": [],
   "source": [
    "#from scipy import optimize\n",
    "import blackbox as bb"
   ]
  },
  {
   "cell_type": "code",
   "execution_count": 3,
   "metadata": {},
   "outputs": [],
   "source": [
    "plotting_on = 0\n",
    "cluster_size = 2\n",
    "noise_threshold = 10.0\n",
    "S = 1"
   ]
  },
  {
   "cell_type": "code",
   "execution_count": 4,
   "metadata": {},
   "outputs": [],
   "source": [
    "def plot_clusters(X, labels):\n",
    "    chosen_pts_cluster_label = []\n",
    "    for idx, label in enumerate(labels):\n",
    "        if label == 0:\n",
    "            if plotting_on:\n",
    "                plt.scatter(X[idx,0], X[idx,1], color = 'blue')\n",
    "\n",
    "        if label == 1:\n",
    "            if plotting_on:\n",
    "                plt.scatter(X[idx,0], X[idx,1], color = 'red')\n",
    "\n",
    "        if mask[idx] == 1:\n",
    "            chosen_pts_cluster_label.append(label)\n",
    "            if plotting_on:\n",
    "                plt.scatter(X[idx,0], X[idx,1], color = 'green')\n",
    "\n",
    "    if plotting_on:\n",
    "        plt.show()\n",
    "    return chosen_pts_cluster_label\n",
    "\n",
    "def get_Y(labels,n_samples, n_clusters):\n",
    "    Y = np.zeros([n_samples, n_clusters])\n",
    "    for idx, label in enumerate(labels):\n",
    "        Y[idx, label] = 1\n",
    "    return Y\n",
    "\n",
    "def run_kmeans(n_clusters, X):\n",
    "    kmeans = KMeans(n_clusters = n_clusters, random_state=42)\n",
    "    labels = kmeans.fit_predict(X)\n",
    "    centers = kmeans.cluster_centers_\n",
    "    \n",
    "    temp = np.copy(labels)\n",
    "    temp_c = np.copy(centers)\n",
    "    if np.sum(centers[0,:]) > np.sum(centers[1,:]):\n",
    "        return (labels, centers) \n",
    "    else:\n",
    "        labels[temp == 0] = 1\n",
    "        labels[temp == 1] = 0\n",
    "        centers[1,:] = temp_c[0,:]\n",
    "        centers[0,:] = temp_c[1,:]\n",
    "        return (labels, centers)\n",
    "    \n",
    "    \n",
    "def add_noise(X,noise):\n",
    "    for i,(m,_) in enumerate(zip(mask,X)):\n",
    "        if m != 0:\n",
    "            X[i,:] = X[i,:] + noise\n",
    "    return X\n",
    "\n",
    "def get_dist(Y,Y_dash):\n",
    "    dist = linalg.norm(np.matmul(Y,Y.T) - np.matmul(Y_dash,Y_dash.T))\n",
    "    return dist\n"
   ]
  },
  {
   "cell_type": "code",
   "execution_count": 5,
   "metadata": {},
   "outputs": [
    {
     "name": "stdout",
     "output_type": "stream",
     "text": [
      "((70, 7), (70, 7), (140, 7))\n"
     ]
    }
   ],
   "source": [
    "d, y = [[],[],[],[],[],[],[]], []                                               \n",
    "with open('seeds_dataset.txt') as f:                                            \n",
    "    r = csv.reader(f, delimiter = ',')                                          \n",
    "    for row in r:                                                               \n",
    "        #print(row[0].split())                                                  \n",
    "        for i in range(7):                                                      \n",
    "            d[i].append(float(row[0].split()[i]))                               \n",
    "        y.append(float(row[0].split()[7]))\n",
    "                                                                                        \n",
    "d = np.array(d).T                                                               \n",
    "y = np.array(y)                                                                                                                          \n",
    "X1 = d[y==1,:]                                                                  \n",
    "X2 = d[y==2,:]                                                                  \n",
    "X = np.vstack((X1, X2))                                                         \n",
    "print(X1.shape,X2.shape, X.shape) \n",
    "\n",
    "sample_size = X.shape[0]\n",
    "mask = np.zeros((sample_size))\n",
    "n_features = X.shape[1]\n",
    "\n",
    "X_org = np.copy(X)\n",
    "\n",
    "kmeans_d = KMeans(n_clusters = cluster_size, random_state=42)\n",
    "labels_d = kmeans_d.fit_predict(X)    \n",
    "centers_d = kmeans_d.cluster_centers_\n",
    "\n",
    "temp_d = np.copy(labels_d)\n",
    "temp_c_d = np.copy(centers_d)\n",
    "if np.sum(centers_d[0,:]) < np.sum(centers_d[1,:]):\n",
    "    labels_d[temp_d == 0] = 1\n",
    "    labels_d[temp_d == 1] = 0\n",
    "    centers_d[1,:] = temp_c_d[0,:]\n",
    "    centers_d[0,:] = temp_c_d[1,:]\n",
    "\n",
    "\n",
    "best_vals = []\n",
    "for idx,label in enumerate(labels_d):\n",
    "    if label == 1:\n",
    "        best_vals.append(linalg.norm(X[idx,:] - centers_d[0,:]))\n",
    "    else:\n",
    "        best_vals.append(1000000)\n",
    "\n",
    "best_vals = np.array(best_vals)\n",
    "best_vals_idx = np.argsort(best_vals)\n",
    "\n",
    "count = 0\n",
    "mask_idx = -1\n",
    "for idx in range(0,sample_size):\n",
    "    if idx in best_vals_idx[:S]:\n",
    "        mask[idx] = 1\n",
    "        count+=1\n",
    "        mask_idx = idx\n"
   ]
  },
  {
   "cell_type": "code",
   "execution_count": 6,
   "metadata": {},
   "outputs": [
    {
     "name": "stdout",
     "output_type": "stream",
     "text": [
      "(61, 79)\n",
      "[[0, 2.5429836065573785], [0, 1.1521147540983592], [-0.0015131147540984324, 0], [0, 0.5400278688524597], [0, 0.21743934426229525], [-0.6134098360655735, 0], [0, 0.4929081967213109]]\n"
     ]
    },
    {
     "data": {
      "image/png": "[encoded data removed]",
      "text/plain": [
       "<matplotlib.figure.Figure at 0x7ff0385f8a90>"
      ]
     },
     "metadata": {},
     "output_type": "display_data"
    }
   ],
   "source": [
    "mean_0, mean_1  = np.zeros([7]), np.zeros([7])\n",
    "for i,l in enumerate(labels_d):\n",
    "    if l == 0:\n",
    "        mean_0 += X_org[i]\n",
    "    if l == 1:\n",
    "        mean_1 += X_org[i]\n",
    "mean_0, mean_1 = mean_0/np.sum(1-labels_d), mean_1/np.sum(labels_d)\n",
    "print(np.sum(1-labels_d), np.sum(labels_d))\n",
    "\n",
    "#plt.plot(mean_0-mean_1)\n",
    "#plt.plot(mean_1)\n",
    "#plt.show()\n",
    "\n",
    "delta = centers_d[0,:] - X_org[mask_idx]\n",
    "Delta = []\n",
    "for i,d in enumerate(delta):\n",
    "    if d > 0:\n",
    "        Delta.append([0,d*1.1])\n",
    "    elif d < 0:\n",
    "        Delta.append([d*1.0, 0])\n",
    "    elif d == 0:\n",
    "        Delta.append([0,0])\n",
    "    else:\n",
    "        Delta.append([0,0])\n",
    "print(Delta)\n",
    "plt.plot(Delta)\n",
    "plt.show()"
   ]
  },
  {
   "cell_type": "code",
   "execution_count": 7,
   "metadata": {},
   "outputs": [],
   "source": [
    "def f(x):\n",
    "    success = 0.0\n",
    "    noise = np.array(x)\n",
    "    (labels, centers) = run_kmeans(cluster_size, X_org)\n",
    "    org_label = labels[mask_idx]\n",
    "    Y = get_Y(labels, sample_size, cluster_size)\n",
    "    X_noisy = np.copy(X_org)\n",
    "    X_noisy  = add_noise(X_noisy, noise)\n",
    "    (labels_dash, centers_dash) = run_kmeans(cluster_size, X_noisy)\n",
    "    noisy_label = labels_dash[mask_idx]\n",
    "    Y_dash = get_Y(labels_dash, sample_size, cluster_size)  \n",
    "    dist = get_dist(Y,Y_dash)\n",
    "    #if noisy_label != org_label and dist != 0.0:\n",
    "    #    return -10000.0 - dist\n",
    "    #else:\n",
    "    #    return 1000000.0\n",
    "    #    success = 1.0\n",
    "    #return (linalg.norm(noise)-(dist + 10000*success))\n",
    "    if dist != 0.0:\n",
    "        #return -dist + linalg.norm(noise)\n",
    "        return -dist\n",
    "    else:\n",
    "        return 1000000.0"
   ]
  },
  {
   "cell_type": "code",
   "execution_count": 8,
   "metadata": {},
   "outputs": [],
   "source": [
    "bb.search(f=f,  # given function\n",
    "          box=Delta,  # range of values for each parameter (2D case)\n",
    "          n=40,  # number of function calls on initial stage (global search)\n",
    "          m=40,  # number of function calls on subsequent stage (local search)\n",
    "          batch=4,  # number of calls that will be evaluated in parallel\n",
    "          resfile='kmeans_seeds_1-2.csv')  # text file where results will be saved"
   ]
  },
  {
   "cell_type": "code",
   "execution_count": 8,
   "metadata": {},
   "outputs": [
    {
     "name": "stdout",
     "output_type": "stream",
     "text": [
      "100\n"
     ]
    }
   ],
   "source": [
    "#best_noise = [ -5.8600e-02, +2.5402e+00, -2.4385e+00, +4.7911e+00, +4.0338e+00, -4.8885e+00, -2.1378e+00]\n",
    "best_noise = [+1.6839e-01, +7.6773e-02, -6.5170e-04, +5.0622e-02, +1.9871e-01, -3.0331e-01, +9.8439e-02]\n",
    "np.save('kme_X_org.npy', X_org)\n",
    "np.savetxt('X_org.csv', X_org, delimiter = ',')\n",
    "X_adv = np.copy(X_org)\n",
    "X_adv = add_noise(X_adv, best_noise)\n",
    "np.save('kme_X_adv.npy', X_adv)\n",
    "np.savetxt('X_adv.csv', X_adv, delimiter = ',')\n",
    "print(mask_idx)"
   ]
  },
  {
   "cell_type": "code",
   "execution_count": 9,
   "metadata": {},
   "outputs": [],
   "source": [
    "Xo = np.load('kme_X_org.npy')\n",
    "Xa = np.load('kme_X_adv.npy')\n",
    "\n",
    "lo,_ = run_kmeans(2, Xo)\n",
    "la,_ = run_kmeans(2, Xa)"
   ]
  },
  {
   "cell_type": "code",
   "execution_count": 10,
   "metadata": {},
   "outputs": [
    {
     "name": "stdout",
     "output_type": "stream",
     "text": [
      "(array([1, 1, 1, 1, 1, 1, 1, 1, 1, 1, 1, 1, 1, 1, 1, 1, 1, 1, 1, 1, 1, 1,\n",
      "       1, 1, 1, 1, 1, 1, 1, 1, 1, 1, 1, 1, 1, 1, 1, 0, 1, 1, 1, 1, 1, 1,\n",
      "       1, 1, 1, 1, 1, 1, 1, 1, 1, 1, 1, 1, 1, 1, 1, 1, 1, 1, 1, 1, 1, 1,\n",
      "       1, 1, 1, 1, 0, 0, 0, 0, 0, 0, 0, 0, 0, 0, 0, 0, 0, 0, 0, 0, 0, 0,\n",
      "       0, 0, 0, 0, 0, 0, 0, 0, 0, 0, 0, 0, 1, 0, 0, 0, 0, 0, 0, 0, 0, 0,\n",
      "       0, 0, 0, 0, 0, 0, 0, 0, 0, 0, 0, 0, 1, 0, 1, 0, 0, 0, 0, 0, 0, 0,\n",
      "       1, 1, 1, 1, 0, 1, 1, 1], dtype=int32), array([1, 1, 1, 1, 1, 1, 1, 1, 0, 1, 1, 1, 1, 1, 1, 1, 1, 1, 1, 1, 1, 1,\n",
      "       1, 1, 1, 1, 1, 1, 1, 1, 1, 1, 1, 1, 1, 1, 1, 0, 1, 1, 1, 1, 1, 1,\n",
      "       1, 1, 1, 1, 1, 1, 1, 1, 1, 1, 1, 1, 1, 1, 1, 1, 1, 1, 1, 1, 1, 1,\n",
      "       1, 1, 1, 1, 0, 0, 0, 0, 0, 0, 0, 0, 0, 0, 0, 0, 0, 0, 0, 0, 0, 0,\n",
      "       0, 0, 0, 0, 0, 0, 0, 0, 0, 0, 0, 0, 0, 0, 0, 0, 0, 0, 0, 0, 0, 0,\n",
      "       0, 0, 0, 0, 0, 0, 0, 0, 0, 0, 0, 0, 1, 0, 1, 0, 0, 0, 0, 0, 0, 0,\n",
      "       1, 1, 1, 1, 0, 1, 1, 1], dtype=int32))\n"
     ]
    }
   ],
   "source": [
    "print(lo,la)\n",
    "np.savetxt('lo.csv', lo)\n",
    "np.savetxt('la.csv', la)"
   ]
  },
  {
   "cell_type": "code",
   "execution_count": 11,
   "metadata": {},
   "outputs": [
    {
     "name": "stdout",
     "output_type": "stream",
     "text": [
      "((61,), (79,))\n",
      "(1, 0)\n"
     ]
    }
   ],
   "source": [
    "print(lo[lo==0].shape, lo[lo==1].shape)\n",
    "print(lo[mask_idx],la[mask_idx])"
   ]
  },
  {
   "cell_type": "code",
   "execution_count": 12,
   "metadata": {},
   "outputs": [
    {
     "name": "stdout",
     "output_type": "stream",
     "text": [
      "2\n"
     ]
    }
   ],
   "source": [
    "count_diffs = 0\n",
    "perturbed_idx = []\n",
    "for idx,(el1, el2) in enumerate(zip(lo,la)):\n",
    "    if el1 != el2:\n",
    "        count_diffs += 1\n",
    "        perturbed_idx.append(idx)\n",
    "print(count_diffs)"
   ]
  },
  {
   "cell_type": "code",
   "execution_count": 13,
   "metadata": {},
   "outputs": [
    {
     "data": {
      "text/plain": [
       "-23.49468024894146"
      ]
     },
     "execution_count": 13,
     "metadata": {},
     "output_type": "execute_result"
    }
   ],
   "source": [
    "f(best_noise)"
   ]
  },
  {
   "cell_type": "code",
   "execution_count": 14,
   "metadata": {},
   "outputs": [
    {
     "name": "stdout",
     "output_type": "stream",
     "text": [
      "(1, 0, 1.0)\n",
      "(1, 0, 2.0)\n"
     ]
    }
   ],
   "source": [
    "for i in perturbed_idx:\n",
    "    print(lo[i], la[i], y[i])"
   ]
  },
  {
   "cell_type": "code",
   "execution_count": 14,
   "metadata": {},
   "outputs": [
    {
     "data": {
      "text/plain": [
       "array([1., 1., 1., 1., 1., 1., 1., 1., 1., 1., 1., 1., 1., 1., 1., 1., 1.,\n",
       "       1., 1., 1., 1., 1., 1., 1., 1., 1., 1., 1., 1., 1., 1., 1., 1., 1.,\n",
       "       1., 1., 1., 1., 1., 1., 1., 1., 1., 1., 1., 1., 1., 1., 1., 1., 1.,\n",
       "       1., 1., 1., 1., 1., 1., 1., 1., 1., 1., 1., 1., 1., 1., 1., 1., 1.,\n",
       "       1., 1., 2., 2., 2., 2., 2., 2., 2., 2., 2., 2., 2., 2., 2., 2., 2.,\n",
       "       2., 2., 2., 2., 2., 2., 2., 2., 2., 2., 2., 2., 2., 2., 2., 2., 2.,\n",
       "       2., 2., 2., 2., 2., 2., 2., 2., 2., 2., 2., 2., 2., 2., 2., 2., 2.,\n",
       "       2., 2., 2., 2., 2., 2., 2., 2., 2., 2., 2., 2., 2., 2., 2., 2., 2.,\n",
       "       2., 2., 2., 2., 3., 3., 3., 3., 3., 3., 3., 3., 3., 3., 3., 3., 3.,\n",
       "       3., 3., 3., 3., 3., 3., 3., 3., 3., 3., 3., 3., 3., 3., 3., 3., 3.,\n",
       "       3., 3., 3., 3., 3., 3., 3., 3., 3., 3., 3., 3., 3., 3., 3., 3., 3.,\n",
       "       3., 3., 3., 3., 3., 3., 3., 3., 3., 3., 3., 3., 3., 3., 3., 3., 3.,\n",
       "       3., 3., 3., 3., 3., 3.])"
      ]
     },
     "execution_count": 14,
     "metadata": {},
     "output_type": "execute_result"
    }
   ],
   "source": [
    "y"
   ]
  },
  {
   "cell_type": "code",
   "execution_count": 36,
   "metadata": {},
   "outputs": [
    {
     "data": {
      "image/png": "[encoded data removed]",
      "text/plain": [
       "<matplotlib.figure.Figure at 0x7f25be36a150>"
      ]
     },
     "metadata": {},
     "output_type": "display_data"
    }
   ],
   "source": [
    "fig = plt.figure()\n",
    "#fig2 = plt.figure()\n",
    "fig.set_figheight(6)\n",
    "fig.set_figwidth(6)\n",
    "#fig2.set_figheight(10)\n",
    "#fig2.set_figwidth(10)\n",
    "ax = fig.add_subplot(111, projection='3d')#\n",
    "#ax2 = fig2.add_subplot(111, projection='3d')\n",
    "#ax.scatter(Xo[:,0], Xo[:,1], Xo[:,2], c='r', marker='o')\n",
    "for i,xo in enumerate(Xo):\n",
    "    if i == mask_idx:\n",
    "            ax.scatter(xo[0], xo[1], xo[2], c='r', marker='x')\n",
    "            ax.scatter(xo[0], xo[1], xo[2], c='r', marker='x')\n",
    "            ax.scatter(xo[0], xo[1], xo[2], c='r', marker='x')\n",
    "            ax.scatter(xo[0], xo[1], xo[2], c='r', marker='x')\n",
    "            ax.scatter(xo[0], xo[1], xo[2], c='r', marker='x')\n",
    "            ax.scatter(xo[0], xo[1], xo[2], c='r', marker='x')\n",
    "            ax.scatter(xo[0], xo[1], xo[2], c='r', marker='x')\n",
    "            continue\n",
    "    if lo[i] == 0:        \n",
    "        ax.scatter(xo[0], xo[1], xo[2], c='b', marker='o')\n",
    "    if lo[i] == 1:        \n",
    "        ax.scatter(xo[0], xo[1], xo[2], c='g', marker='o')"
   ]
  },
  {
   "cell_type": "code",
   "execution_count": null,
   "metadata": {},
   "outputs": [],
   "source": []
  }
 ],
 "metadata": {
  "kernelspec": {
   "display_name": "Python 2",
   "language": "python",
   "name": "python2"
  },
  "language_info": {
   "codemirror_mode": {
    "name": "ipython",
    "version": 2
   },
   "file_extension": ".py",
   "mimetype": "text/x-python",
   "name": "python",
   "nbconvert_exporter": "python",
   "pygments_lexer": "ipython2",
   "version": "2.7.12"
  }
 },
 "nbformat": 4,
 "nbformat_minor": 2
}
